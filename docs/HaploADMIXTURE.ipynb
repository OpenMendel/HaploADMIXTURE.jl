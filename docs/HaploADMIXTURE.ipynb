{
 "cells": [
  {
   "cell_type": "markdown",
   "id": "06bb5236",
   "metadata": {},
   "source": [
    "# HaploADMIXTURE.jl\n",
    "\n",
    "This software package is an open-source Julia implementation of HaploADMIXTURE, ancestry inference by modeling haplotypes. By modeling haplotypes, we use information between nearby SNPs, obtaining more accurate ancestry estimates.\n",
    "\n",
    "It supports acceleartion through multithreading and graphic processing units (GPUs). By directly utilizing the data format of the PLINK BED file, the memory usage is highly efficient. \n",
    "\n",
    "It estimates ancestry with maximum-likelihood method for a large SNP genotype datasets, where individuals are assumed to be unrelated. The input is binary PLINK 1 BED-formatted file (`.bed`). Also, you will need an idea of $K$, the number of ancestral populations. One possible way to figure out a good value of $K$ is through Akaike information criterion. If the number of SNPs is too large, you may choose to run on a subset of SNPs selected by their information content, using the blockwise [sparse $K$-means via feature ranking](https://github.com/kose-y/SKFR.jl) (SKFR) method. When SKFR is applied, it selects given number of blocks of two nearby SNPs."
   ]
  },
  {
   "cell_type": "markdown",
   "id": "dbcbab3b",
   "metadata": {},
   "source": [
    "## Installation\n",
    "\n",
    "This package requires Julia v1.7 or later, which can be obtained from\n",
    "<https://julialang.org/downloads/> or by building Julia from the sources in the\n",
    "<https://github.com/JuliaLang/julia> repository.\n",
    "\n",
    "The package can be installed by running the following code:\n",
    "```julia\n",
    "using Pkg\n",
    "pkg\"add https://github.com/kose-y/SKFR.jl\"\n",
    "pkg\"add https://github.com/OpenMendel/OpenADMIXTURE.jl\"\n",
    "pkg\"add https://github.com/OpenMendel/HaploADMIXTURE.jl\"\n",
    "```\n",
    "For running the examples below, the following are also necessary. \n",
    "```julia\n",
    "pkg\"add SnpArrays DelimitedFiles StableRNGs\"\n",
    "```\n",
    "\n",
    "For GPU support, an Nvidia GPU is required. Also, the following package has to be installed:\n",
    "```julia\n",
    "pkg\"add CUDA\"\n",
    "```"
   ]
  },
  {
   "cell_type": "markdown",
   "id": "298d4e60",
   "metadata": {},
   "source": [
    "## Basic Usage"
   ]
  },
  {
   "cell_type": "markdown",
   "id": "e2e5700a",
   "metadata": {},
   "source": [
    "We first import necessary packages:"
   ]
  },
  {
   "cell_type": "code",
   "execution_count": 1,
   "id": "2c6bcc97",
   "metadata": {},
   "outputs": [],
   "source": [
    "using LinearAlgebra, Random, SnpArrays, StableRNGs\n",
    "using HaploADMIXTURE\n",
    "using DelimitedFiles"
   ]
  },
  {
   "cell_type": "markdown",
   "id": "24845078",
   "metadata": {},
   "source": [
    "We will use the PLINK file included in the `SnpArrays` package, whose path is obtained by:"
   ]
  },
  {
   "cell_type": "code",
   "execution_count": 2,
   "id": "23c468b8",
   "metadata": {},
   "outputs": [],
   "source": [
    "filename = SnpArrays.datadir(\"EUR_subset.bed\");"
   ]
  },
  {
   "cell_type": "markdown",
   "id": "84e3da44",
   "metadata": {},
   "source": [
    "This file contains information on 54051 single nucleotide polymorphisms (SNP)s of 379 samples. The main driver function for admixture proportion estimation is called `run_admixture()`. "
   ]
  },
  {
   "cell_type": "code",
   "execution_count": null,
   "id": "c22da343",
   "metadata": {
    "scrolled": true
   },
   "outputs": [
    {
     "name": "stdout",
     "output_type": "stream",
     "text": [
      "Using /home/kose/.julia/packages/SnpArrays/lx5Kb/src/../data/EUR_subset.bed as input.\n",
      "Loading genotype data...\n",
      "Loaded 379 samples and 27025 SNPs\n"
     ]
    },
    {
     "name": "stderr",
     "output_type": "stream",
     "text": [
      "\u001b[36m\u001b[1m[ \u001b[22m\u001b[39m\u001b[36m\u001b[1mInfo: \u001b[22m\u001b[39mEM iter 1, ll: -1.4510327066059288e7\n",
      "\u001b[36m\u001b[1m[ \u001b[22m\u001b[39m\u001b[36m\u001b[1mInfo: \u001b[22m\u001b[39mEM iter 2, ll: -1.381644526909224e7\n",
      "\u001b[36m\u001b[1m[ \u001b[22m\u001b[39m\u001b[36m\u001b[1mInfo: \u001b[22m\u001b[39mEM iter 3, ll: -1.3630461295722805e7\n",
      "\u001b[36m\u001b[1m[ \u001b[22m\u001b[39m\u001b[36m\u001b[1mInfo: \u001b[22m\u001b[39mEM iter 4, ll: -1.3583905487448066e7\n",
      "\u001b[36m\u001b[1m[ \u001b[22m\u001b[39m\u001b[36m\u001b[1mInfo: \u001b[22m\u001b[39mEM iter 5, ll: -1.3560929046308124e7\n"
     ]
    },
    {
     "name": "stdout",
     "output_type": "stream",
     "text": [
      "initial ll: -1.3560929046308124e7\n",
      "  0.850404 seconds (4 allocations: 64 bytes)\n",
      "  0.000264 seconds (27 allocations: 12.156 KiB)\n",
      "  0.998668 seconds (4 allocations: 64 bytes)\n",
      "  0.134181 seconds (27 allocations: 12.344 KiB)\n",
      "  0.849196 seconds (4 allocations: 64 bytes)\n",
      "  0.000252 seconds (27 allocations: 12.156 KiB)\n",
      "  0.997638 seconds (4 allocations: 64 bytes)\n",
      "  0.132407 seconds (27 allocations: 12.344 KiB)\n"
     ]
    },
    {
     "name": "stderr",
     "output_type": "stream",
     "text": [
      "\u001b[36m\u001b[1m[ \u001b[22m\u001b[39m\u001b[36m\u001b[1mInfo: \u001b[22m\u001b[39mIteration 1: ll=-1.3442143002068464e7, reldiff = 0.008759432619551937, ll_basic=-1.3439421296893205e7, ll_qn=-1.3442143002068464e7\n"
     ]
    },
    {
     "name": "stdout",
     "output_type": "stream",
     "text": [
      "  4.927956 seconds (123.29 k allocations: 21.585 MiB, 0.53% compilation time)\n",
      "\n",
      "\n",
      "  0.851355 seconds (4 allocations: 64 bytes)\n",
      "  0.000242 seconds (27 allocations: 12.156 KiB)\n",
      "  0.998224 seconds (4 allocations: 64 bytes)\n",
      "  0.122307 seconds (27 allocations: 12.344 KiB)\n",
      "  0.851050 seconds (4 allocations: 64 bytes)\n",
      "  0.000246 seconds (27 allocations: 12.156 KiB)\n",
      "  0.998467 seconds (4 allocations: 64 bytes)\n",
      "  0.121218 seconds (27 allocations: 12.344 KiB)\n"
     ]
    },
    {
     "name": "stderr",
     "output_type": "stream",
     "text": [
      "\u001b[36m\u001b[1m[ \u001b[22m\u001b[39m\u001b[36m\u001b[1mInfo: \u001b[22m\u001b[39mIteration 2: ll=-1.3383453322742362e7, reldiff = 0.004366095444533735, ll_basic=-1.3388259907460274e7, ll_qn=-1.3383453322742362e7\n"
     ]
    },
    {
     "name": "stdout",
     "output_type": "stream",
     "text": [
      "  4.859687 seconds (116.22 k allocations: 24.416 MiB)\n",
      "\n",
      "\n",
      "  0.848979 seconds (4 allocations: 64 bytes)\n",
      "  0.000273 seconds (27 allocations: 12.156 KiB)\n",
      "  0.998561 seconds (4 allocations: 64 bytes)\n",
      "  0.112486 seconds (27 allocations: 12.344 KiB)\n",
      "  0.848001 seconds (4 allocations: 64 bytes)\n",
      "  0.000256 seconds (27 allocations: 12.156 KiB)\n",
      "  0.998448 seconds (4 allocations: 64 bytes)\n",
      "  0.110201 seconds (27 allocations: 12.344 KiB)\n"
     ]
    },
    {
     "name": "stderr",
     "output_type": "stream",
     "text": [
      "\u001b[36m\u001b[1m[ \u001b[22m\u001b[39m\u001b[36m\u001b[1mInfo: \u001b[22m\u001b[39mIteration 3: ll=-1.3363811617880553e7, reldiff = 0.0014676111156177924, ll_basic=-1.3367645714833554e7, ll_qn=-1.3363811617880553e7\n"
     ]
    }
   ],
   "source": [
    "d, clusters, aims = HaploADMIXTURE.run_admixture(filename, 379, 27025, 4; T=Float64, use_gpu=false, rng=StableRNG(7856), admix_rtol=1e-5)"
   ]
  },
  {
   "cell_type": "markdown",
   "id": "81f8f58e",
   "metadata": {},
   "source": [
    "The first argument is the path to the PLINK 1 `.bed`, and the second argument is the number of populations. The second through fourth arguments are: \n",
    "- `I`: Number of individuals. We use first `I` individuals in the PLINK file for the analysis.\n",
    "- `J`: Number of pairs of SNPs to be used for analysis. We use the first `2J` SNPs in the PLINK file for the analysis.\n",
    "- `K`: Number of populations.\n",
    "\n",
    "After the semicolon are the keyword arguments:\n",
    "- `T`: Precision of the estimation. `Float64` or `Float32`. Default `Float64`. \n",
    "- `use_gpu`: Whether to use GPU for estimation. Default `false`. \n",
    "- `rng`: Random number generator. Default `Random.GLOBAL_RNG`. \n",
    "- `prefix`: Prefix of the PLINK file only with the SNPs selected using SKFR. The output file is named `$(prefix)_$(K)_$(sparsity)aims.bed`. \n",
    "- `sparsity`: Number of pairs of SNPs selected by SKFR. Default `nothing` and skip SKFR. \n",
    "- `skfr_tries`: Runs SKFR this many times and choose the best clustering. Default 1. \n",
    "- `skfr_max_inner_iter`: Runs each SKFR for up to this many iterations or until convergence. Default 50. \n",
    "- `admix_n_iter`: Maximum number of iterations for ADMIXTURE. Default 1000. \n",
    "- `admix_rtol`: Convergence criteria in terms of relative change in loglikelihood. Default 1e-7. \n",
    "- `admix_n_em_iter`: Number of EM iterations to get a good initial guess for estimation. Default 5. \n",
    "- `Q`: Number of steps to be used in quasi-Newton acceleration. Default 3. \n",
    "\n",
    "The output are:\n",
    "- `d`: the strucutre to store Admixture data. In particular, `d.p` stores the allele frequencies and `d.q` stores the admixture proportions. \n",
    "- `clusters`: cluster labels of each samples, `nothing` if `sparsity == nothing`.\n",
    "- `aims`: The index of the selected SNPs in the decreasing order of importance, `nothing` if `sparsity == nothing`. "
   ]
  },
  {
   "cell_type": "markdown",
   "id": "ce3f4cb1",
   "metadata": {},
   "source": [
    "To see the admixture proportion of each sample:"
   ]
  },
  {
   "cell_type": "code",
   "execution_count": null,
   "id": "9bf81009",
   "metadata": {},
   "outputs": [],
   "source": [
    "d.q"
   ]
  },
  {
   "cell_type": "markdown",
   "id": "dc9912b5",
   "metadata": {},
   "source": [
    "Each column represent each sample, and each row represent each population."
   ]
  },
  {
   "cell_type": "markdown",
   "id": "860ca578",
   "metadata": {},
   "source": [
    "To see the haplotype frequencies of the first alleles listed in the `.bim` file accompanying the `.bed` file:"
   ]
  },
  {
   "cell_type": "code",
   "execution_count": null,
   "id": "a63042cc",
   "metadata": {},
   "outputs": [],
   "source": [
    "d.p"
   ]
  },
  {
   "cell_type": "markdown",
   "id": "2877b0c7",
   "metadata": {},
   "source": [
    "Number of columns here, `108100`, is `4 * 27025`. Again, each row represent each population. Each contiguous four-column block represent frequency of four haplotypes, adding up to 1. For example, "
   ]
  },
  {
   "cell_type": "code",
   "execution_count": null,
   "id": "ebd113d2",
   "metadata": {},
   "outputs": [],
   "source": [
    "d.p[1, 1:4]"
   ]
  },
  {
   "cell_type": "markdown",
   "id": "c5401b78",
   "metadata": {},
   "source": [
    "represents haplotype frequencies for the first pair of SNPs in the PLINK file, each representing `0|0`, `0|1`, `1|0`, and `1|1`, `0` representing \"allele 1\" and `1` representing \"allele 2\"."
   ]
  },
  {
   "cell_type": "markdown",
   "id": "deb71410",
   "metadata": {},
   "source": [
    "The following shows the final loglikelihood of the parameters."
   ]
  },
  {
   "cell_type": "code",
   "execution_count": null,
   "id": "a06cd144",
   "metadata": {},
   "outputs": [],
   "source": [
    "d.ll_new"
   ]
  },
  {
   "cell_type": "markdown",
   "id": "17dae688",
   "metadata": {},
   "source": [
    "The following is an example with `sparsity` defined. This example uses 10000 pairs of SNPs, i.e., 20000 SNPs. "
   ]
  },
  {
   "cell_type": "code",
   "execution_count": null,
   "id": "95e9f850",
   "metadata": {},
   "outputs": [],
   "source": [
    "d, clusters, aims = HaploADMIXTURE.run_admixture(filename, 379, 10000, 4; T=Float64, use_gpu=false, rng=StableRNG(7856), sparsity=10000, admix_rtol=1e-5, prefix=\"./EUR_subset\")"
   ]
  },
  {
   "cell_type": "markdown",
   "id": "72fce43c",
   "metadata": {},
   "source": [
    "The following shows the clustering result of the samples:"
   ]
  },
  {
   "cell_type": "code",
   "execution_count": null,
   "id": "9c076283",
   "metadata": {},
   "outputs": [],
   "source": [
    "clusters"
   ]
  },
  {
   "cell_type": "markdown",
   "id": "4c8a8091",
   "metadata": {},
   "source": [
    "And the following shows the SNPs selected."
   ]
  },
  {
   "cell_type": "code",
   "execution_count": null,
   "id": "3a46e614",
   "metadata": {},
   "outputs": [],
   "source": [
    "aims"
   ]
  },
  {
   "cell_type": "markdown",
   "id": "97bb1a40",
   "metadata": {},
   "source": [
    "The allele frequencies can be shown as in: "
   ]
  },
  {
   "cell_type": "code",
   "execution_count": null,
   "id": "d063627e",
   "metadata": {},
   "outputs": [],
   "source": [
    "d.p"
   ]
  },
  {
   "cell_type": "markdown",
   "id": "ef8eaca2",
   "metadata": {},
   "source": [
    "!!! The order of alleles is in the order of index (as in `sort(aim)`). This can be verified by checking the `.bim` file generated along with the newly filtered `.bed` file. "
   ]
  },
  {
   "cell_type": "markdown",
   "id": "70a59f25",
   "metadata": {},
   "source": [
    "The admixture proportions can be viewed by:"
   ]
  },
  {
   "cell_type": "code",
   "execution_count": null,
   "id": "a4259196",
   "metadata": {},
   "outputs": [],
   "source": [
    "d.q"
   ]
  },
  {
   "cell_type": "code",
   "execution_count": null,
   "id": "137cf9da",
   "metadata": {},
   "outputs": [],
   "source": [
    "d.ll_new"
   ]
  },
  {
   "cell_type": "markdown",
   "id": "4367d746",
   "metadata": {},
   "source": [
    "## Multithreading\n",
    "\n",
    "If you have multiple CPU cores available, it is recommended to launch Julia with multiple threads, for example, by using `-t` option from the terminal:\n",
    "```bash\n",
    "julia -t 8\n",
    "```\n",
    "\n",
    "You may also set up a multithreaded Jupyter kernel following the instruction given [here](https://github.com/JuliaLang/IJulia.jl/issues/882). "
   ]
  },
  {
   "cell_type": "markdown",
   "id": "4050a160",
   "metadata": {},
   "source": [
    "## GPU support\n",
    "GPU is enabled by setting the keyword argument `use_gpu` to `true`. The parts computing gradients and Hessians of the loglikelihood is moved to GPU."
   ]
  }
 ],
 "metadata": {
  "kernelspec": {
   "display_name": "Julia 1.9.3",
   "language": "julia",
   "name": "julia-1.9"
  },
  "language_info": {
   "file_extension": ".jl",
   "mimetype": "application/julia",
   "name": "julia",
   "version": "1.9.3"
  }
 },
 "nbformat": 4,
 "nbformat_minor": 5
}
